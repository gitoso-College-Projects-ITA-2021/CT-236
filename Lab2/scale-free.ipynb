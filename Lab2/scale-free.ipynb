{
 "cells": [
  {
   "cell_type": "markdown",
   "metadata": {},
   "source": [
    "# (CT-236) Lab 2: Simulando Redes Livres de Escala\n",
    "---"
   ]
  },
  {
   "cell_type": "code",
   "execution_count": 1,
   "metadata": {},
   "outputs": [],
   "source": [
    "from igraph import *\n",
    "from PIL import Image\n",
    "from matplotlib import pyplot as plt\n",
    "from math import log, floor, exp\n",
    "import matplotlib.image as mpimg\n",
    "import numpy as np\n",
    "import networkx as nx\n",
    "import random"
   ]
  },
  {
   "cell_type": "code",
   "execution_count": 2,
   "metadata": {},
   "outputs": [],
   "source": [
    "def decision(probability):\n",
    "    return random.random() < probability\n",
    "\n",
    "def plot_graph(g, layout_name, filename):\n",
    "    visual_style = {}\n",
    "    visual_style[\"vertex_size\"] = 2\n",
    "    visual_style[\"edge_width\"] = 1\n",
    "    visual_style[\"bbox\"] = (300, 300)\n",
    "    visual_style[\"margin\"] = 20\n",
    "    visual_style[\"layout\"] = g.layout(layout_name)\n",
    "    plot(g, \"plots/\" + filename, **visual_style)\n",
    "    return Image.open(\"plots/\" + filename)\n",
    "\n",
    "def generate_barabasi_albert(n, m):\n",
    "    # Start with m vertices\n",
    "    g = Graph()\n",
    "    g.add_vertices(n)\n",
    "\n",
    "    # Fully connected at start\n",
    "    for i in range(m):\n",
    "        for j in range(i + 1, m):\n",
    "            g.add_edges([(i, j)])\n",
    "\n",
    "    # Store nodes degrees\n",
    "    degrees = []\n",
    "    for i in range(m):\n",
    "        degrees.append(m - 1)\n",
    "    for i in range(m, n):\n",
    "        degrees.append(0)\n",
    "    #print(degrees)\n",
    "\n",
    "    # Store sum of nodes degrees\n",
    "    sum_degrees = m * (m - 1)\n",
    "    #print(sum)\n",
    "\n",
    "    # Grow the network\n",
    "    while m < n:\n",
    "        # First we decide to which nodes the new will be attached\n",
    "        connections = []\n",
    "        for i in range(m):\n",
    "            connections.append(decision(degrees[i] / sum_degrees))\n",
    "\n",
    "        # Now add the new connection and update the degrees\n",
    "        for i in range(m):\n",
    "            if connections[i]:\n",
    "                g.add_edges([(m, i)])\n",
    "                sum_degrees += 2\n",
    "                degrees[i] += 1\n",
    "                degrees[m] += 1\n",
    "        m += 1\n",
    "    ## Debug\n",
    "    #print(degrees)\n",
    "    #print(sum_degrees)\n",
    "    return g"
   ]
  },
  {
   "cell_type": "markdown",
   "metadata": {},
   "source": [
    "## Clustering Coefficient (CC)\n",
    "### Parâmetros editáveis"
   ]
  },
  {
   "cell_type": "code",
   "execution_count": 3,
   "metadata": {},
   "outputs": [],
   "source": [
    "# ==== Parâmetros ====\n",
    "num_simulations = 5\n",
    "m = 3\n",
    "\n",
    "n_min = 1000\n",
    "n_max = 10000\n",
    "divs = 40\n",
    "\n",
    "# ==== Auxiliary Processing ====\n",
    "n_min = log(n_min)\n",
    "n_max = log(n_max)\n",
    "n_step = (n_max - n_min) / divs\n",
    "\n",
    "n_per_simulation = []\n",
    "aux = n_min\n",
    "while aux <= n_max:\n",
    "    n_per_simulation.append(floor(exp(aux)))\n",
    "    aux = aux + n_step"
   ]
  },
  {
   "cell_type": "markdown",
   "metadata": {},
   "source": [
    "### Calculando CC"
   ]
  },
  {
   "cell_type": "code",
   "execution_count": 4,
   "metadata": {},
   "outputs": [
    {
     "data": {
      "image/png": "[encoded data removed]",
      "text/plain": [
       "<Figure size 432x288 with 1 Axes>"
      ]
     },
     "metadata": {
      "needs_background": "light"
     },
     "output_type": "display_data"
    }
   ],
   "source": [
    "# ==== Processing ====\n",
    "# CC\n",
    "CCs = []\n",
    "for n in n_per_simulation:\n",
    "    sum_cc = 0\n",
    "    for k in range(num_simulations):\n",
    "        g = generate_barabasi_albert(n, m)\n",
    "        sum_cc += g.transitivity_undirected()\n",
    "    CCs.append(sum_cc / num_simulations)\n",
    "\n",
    "# Log(n)\n",
    "logn = []\n",
    "for n in n_per_simulation:\n",
    "    logn.append(log(n))\n",
    "    \n",
    "# Log(cc)\n",
    "logcc = []\n",
    "for cc in CCs:\n",
    "    logcc.append(log(cc))\n",
    "    \n",
    "# ==== Plotting ====\n",
    "plt.plot(n_per_simulation, CCs, 'o')\n",
    "\n",
    "# Info\n",
    "#plt.title(\"Coeficiente de agrupamento (CC) em função de n^(-3/4)\")\n",
    "plt.xlabel(\"n\")\n",
    "plt.ylabel(\"Coeficiente de agrupamento médio\")\n",
    "\n",
    "# Style\n",
    "plt.rcParams[\"font.family\"] = \"serif\"\n",
    "plt.grid(True)\n",
    "\n",
    "plt.savefig('plots/cc-n.png', dpi=400)\n",
    "plt.show()"
   ]
  },
  {
   "cell_type": "code",
   "execution_count": 5,
   "metadata": {},
   "outputs": [
    {
     "name": "stdout",
     "output_type": "stream",
     "text": [
      "Inclinação:  -0.7628170375619753\n"
     ]
    },
    {
     "data": {
      "image/png": "[encoded data removed]",
      "text/plain": [
       "<Figure size 432x288 with 1 Axes>"
      ]
     },
     "metadata": {
      "needs_background": "light"
     },
     "output_type": "display_data"
    }
   ],
   "source": [
    "# ==== Plotting ====\n",
    "plt.plot(logn, logcc, 'o')\n",
    "\n",
    "slope, intercept = np.polyfit(np.array(logn), np.array(logcc), 1)\n",
    "print('Inclinação: ', slope)\n",
    "\n",
    "# Info\n",
    "#plt.title(\"Coeficiente de agrupamento (CC) em função de n^(-3/4)\")\n",
    "plt.xlabel(\"log(n)\")\n",
    "plt.ylabel(\"Logaritmo do coeficiente de agrupamento médio\")\n",
    "\n",
    "# Style\n",
    "plt.rcParams[\"font.family\"] = \"serif\"\n",
    "plt.grid(True)\n",
    "\n",
    "plt.savefig('plots/logcc-logn.png', dpi=400)\n",
    "plt.show()"
   ]
  },
  {
   "cell_type": "markdown",
   "metadata": {},
   "source": [
    "---\n",
    "## Comprimento médio de caminho\n",
    "### Parâmetros editáveis"
   ]
  },
  {
   "cell_type": "code",
   "execution_count": 6,
   "metadata": {},
   "outputs": [],
   "source": [
    "# ==== Parâmetros ====\n",
    "num_simulations = 5\n",
    "m = 3\n",
    "\n",
    "n_min = 1000\n",
    "n_max = 10000\n",
    "divs = 40\n",
    "\n",
    "# ==== Auxiliary Processing ====\n",
    "\n",
    "# for APL x n\n",
    "n_step = (n_max - n_min) / divs\n",
    "\n",
    "n_per_simulation = []\n",
    "aux = n_min\n",
    "while aux <= n_max:\n",
    "    n_per_simulation.append(aux)\n",
    "    aux = floor(aux + n_step)\n",
    "\n",
    "# for log(APL) x log(n)\n",
    "n_min = log(n_min)\n",
    "n_max = log(n_max)\n",
    "n_step = (n_max - n_min) / divs\n",
    "\n",
    "n_per_simulation_log = []\n",
    "aux = n_min\n",
    "while aux <= n_max:\n",
    "    n_per_simulation_log.append(floor(exp(aux)))\n",
    "    aux = aux + n_step"
   ]
  },
  {
   "cell_type": "markdown",
   "metadata": {},
   "source": [
    "### Curva APL x n"
   ]
  },
  {
   "cell_type": "code",
   "execution_count": 7,
   "metadata": {},
   "outputs": [
    {
     "name": "stdout",
     "output_type": "stream",
     "text": [
      "Inclinação:  9.502711671295103e-05\n"
     ]
    },
    {
     "data": {
      "image/png": "[encoded data removed]",
      "text/plain": [
       "<Figure size 432x288 with 1 Axes>"
      ]
     },
     "metadata": {
      "needs_background": "light"
     },
     "output_type": "display_data"
    }
   ],
   "source": [
    "APLs = []\n",
    "for n in n_per_simulation:\n",
    "    sum_apl = 0\n",
    "    for k in range(num_simulations):\n",
    "        g = generate_barabasi_albert(n, m)\n",
    "        sum_apl += g.average_path_length(directed=False)\n",
    "    APLs.append(sum_apl / num_simulations)\n",
    "    \n",
    "# ==== Plotting ====\n",
    "plt.plot(n_per_simulation, APLs, 'o')\n",
    "\n",
    "slope, intercept = np.polyfit(np.array(n_per_simulation), np.array(APLs), 1)\n",
    "print('Inclinação: ', slope)\n",
    "\n",
    "# Info\n",
    "#plt.title(\"Coeficiente de agrupamento (CC) em função de n^(-3/4)\")\n",
    "plt.xlabel(\"n\")\n",
    "plt.ylabel(\"Valor médio de APL\")\n",
    "\n",
    "# Style\n",
    "plt.rcParams[\"font.family\"] = \"serif\"\n",
    "plt.grid(True)\n",
    "\n",
    "plt.savefig('plots/apl-n.png', dpi=400)\n",
    "plt.show()"
   ]
  },
  {
   "cell_type": "markdown",
   "metadata": {},
   "source": [
    "### Curva log(APL) x log(n)"
   ]
  },
  {
   "cell_type": "code",
   "execution_count": 8,
   "metadata": {},
   "outputs": [
    {
     "name": "stdout",
     "output_type": "stream",
     "text": [
      "Inclinação:  0.09428873514601663\n"
     ]
    },
    {
     "data": {
      "image/png": "[encoded data removed]",
      "text/plain": [
       "<Figure size 432x288 with 1 Axes>"
      ]
     },
     "metadata": {
      "needs_background": "light"
     },
     "output_type": "display_data"
    }
   ],
   "source": [
    "APLs = []\n",
    "for n in n_per_simulation_log:\n",
    "    sum_apl = 0\n",
    "    for k in range(num_simulations):\n",
    "        g = generate_barabasi_albert(n, m)\n",
    "        sum_apl += g.average_path_length(directed=False)\n",
    "    APLs.append(sum_apl / num_simulations)\n",
    "\n",
    "# Log(n)\n",
    "logn = []\n",
    "for n in n_per_simulation:\n",
    "    logn.append(log(n))\n",
    "    \n",
    "# Log(apl)\n",
    "logapl = []\n",
    "for apl in APLs:\n",
    "    logapl.append(log(apl))\n",
    "    \n",
    "# ==== Plotting ====\n",
    "plt.plot(logn, logapl, 'o')\n",
    "\n",
    "slope, intercept = np.polyfit(np.array(logn), np.array(logapl), 1)\n",
    "print('Inclinação: ', slope)\n",
    "\n",
    "# Info\n",
    "#plt.title(\"Coeficiente de agrupamento (CC) em função de n^(-3/4)\")\n",
    "plt.xlabel(\"log(n)\")\n",
    "plt.ylabel(\"Logaritmo do valor médio de APL\")\n",
    "\n",
    "# Style\n",
    "plt.rcParams[\"font.family\"] = \"serif\"\n",
    "plt.grid(True)\n",
    "\n",
    "plt.savefig('plots/logapl-logn.png', dpi=400)\n",
    "plt.show()"
   ]
  },
  {
   "cell_type": "markdown",
   "metadata": {},
   "source": [
    "### Curva APL x log(n)"
   ]
  },
  {
   "cell_type": "code",
   "execution_count": 9,
   "metadata": {},
   "outputs": [
    {
     "name": "stdout",
     "output_type": "stream",
     "text": [
      "Inclinação:  0.44735146064089104\n"
     ]
    },
    {
     "data": {
      "image/png": "[encoded data removed]",
      "text/plain": [
       "<Figure size 432x288 with 1 Axes>"
      ]
     },
     "metadata": {
      "needs_background": "light"
     },
     "output_type": "display_data"
    }
   ],
   "source": [
    "plt.plot(logn, APLs, 'o')\n",
    "\n",
    "slope, intercept = np.polyfit(np.array(logn), np.array(APLs), 1)\n",
    "print('Inclinação: ', slope)\n",
    "\n",
    "# Info\n",
    "#plt.title(\"Coeficiente de agrupamento (CC) em função de n^(-3/4)\")\n",
    "plt.xlabel(\"log(n)\")\n",
    "plt.ylabel(\"Valor médio de APL\")\n",
    "\n",
    "# Style\n",
    "plt.rcParams[\"font.family\"] = \"serif\"\n",
    "plt.grid(True)\n",
    "\n",
    "plt.savefig('plots/apl-logn.png', dpi=400)\n",
    "plt.show()"
   ]
  },
  {
   "cell_type": "markdown",
   "metadata": {},
   "source": [
    "---\n",
    "## Comparação com redes Small World\n",
    "### Parâmetros editáveis"
   ]
  },
  {
   "cell_type": "code",
   "execution_count": 10,
   "metadata": {},
   "outputs": [],
   "source": [
    "# ==== Parâmetros ====\n",
    "num_simulations = 1\n",
    "m = 1\n",
    "u = 0.21\n",
    "r = 2\n",
    "\n",
    "n_min = 1000\n",
    "n_max = 10000\n",
    "divs = 40\n",
    "\n",
    "# ==== Auxiliary Processing ====\n",
    "\n",
    "# for APL x n\n",
    "n_step = (n_max - n_min) / divs\n",
    "\n",
    "n_per_simulation = []\n",
    "aux = n_min\n",
    "while aux <= n_max:\n",
    "    n_per_simulation.append(aux)\n",
    "    aux = floor(aux + n_step)"
   ]
  },
  {
   "cell_type": "markdown",
   "metadata": {},
   "source": [
    "### CC em redes SW por Watts-Strogatz "
   ]
  },
  {
   "cell_type": "code",
   "execution_count": 11,
   "metadata": {},
   "outputs": [
    {
     "data": {
      "image/png": "[encoded data removed]",
      "text/plain": [
       "<Figure size 432x288 with 1 Axes>"
      ]
     },
     "metadata": {
      "needs_background": "light"
     },
     "output_type": "display_data"
    }
   ],
   "source": [
    "CCs = []\n",
    "for n in n_per_simulation:\n",
    "    sum_cc = 0\n",
    "    for k in range(num_simulations):\n",
    "        g = Graph.Watts_Strogatz(m, n, r, u)\n",
    "        sum_cc += g.transitivity_undirected()\n",
    "    CCs.append(sum_cc / num_simulations)\n",
    "    \n",
    "# ==== Plotting ====\n",
    "plt.plot(n_per_simulation, CCs, 'o')\n",
    "\n",
    "# Info\n",
    "#plt.title(\"Coeficiente de agrupamento (CC) em função de n^(-3/4)\")\n",
    "plt.xlabel(\"n\")\n",
    "plt.ylabel(\"Coeficiente de agrupamento médio\")\n",
    "\n",
    "# Style\n",
    "plt.rcParams[\"font.family\"] = \"serif\"\n",
    "plt.grid(True)\n",
    "\n",
    "plt.savefig('plots/sw-cc.png', dpi=400)\n",
    "plt.show()"
   ]
  },
  {
   "cell_type": "markdown",
   "metadata": {},
   "source": [
    "### APL em redes SW por Watts-Strogatz "
   ]
  },
  {
   "cell_type": "code",
   "execution_count": 12,
   "metadata": {},
   "outputs": [
    {
     "data": {
      "image/png": "[encoded data removed]",
      "text/plain": [
       "<Figure size 432x288 with 1 Axes>"
      ]
     },
     "metadata": {
      "needs_background": "light"
     },
     "output_type": "display_data"
    }
   ],
   "source": [
    "APLs = []\n",
    "for n in n_per_simulation:\n",
    "    sum_apl = 0\n",
    "    for k in range(num_simulations):\n",
    "        g = Graph.Watts_Strogatz(m, n, r, u)\n",
    "        sum_apl += g.average_path_length(directed=False)\n",
    "    APLs.append(sum_apl / num_simulations)\n",
    "    \n",
    "# ==== Plotting ====\n",
    "plt.plot(n_per_simulation, APLs, 'o')\n",
    "\n",
    "# Info\n",
    "#plt.title(\"Coeficiente de agrupamento (CC) em função de n^(-3/4)\")\n",
    "plt.xlabel(\"n\")\n",
    "plt.ylabel(\"Valor médio de APL\")\n",
    "\n",
    "# Style\n",
    "plt.rcParams[\"font.family\"] = \"serif\"\n",
    "plt.grid(True)\n",
    "\n",
    "plt.savefig('plots/sw-apl.png', dpi=400)\n",
    "plt.show()"
   ]
  },
  {
   "cell_type": "markdown",
   "metadata": {},
   "source": [
    "---\n",
    "## Refazendo as análises para o modelo Holme e Kim\n",
    "### Parâmetros editáveis"
   ]
  },
  {
   "cell_type": "code",
   "execution_count": 13,
   "metadata": {},
   "outputs": [],
   "source": [
    "# ==== Parâmetros ====\n",
    "num_simulations = 5\n",
    "m = 2\n",
    "p = 0.21\n",
    "\n",
    "n_min = 1000\n",
    "n_max = 10000\n",
    "divs = 40\n",
    "\n",
    "# ==== Auxiliary Processing ====\n",
    "n_step = (n_max - n_min) / divs\n",
    "n_per_simulation = []\n",
    "aux = n_min\n",
    "while aux <= n_max:\n",
    "    n_per_simulation.append(aux)\n",
    "    aux = aux + n_step\n",
    "\n",
    "n_min = log(n_min)\n",
    "n_max = log(n_max)\n",
    "n_step = (n_max - n_min) / divs\n",
    "\n",
    "n_per_simulation_log = []\n",
    "aux = n_min\n",
    "while aux <= n_max:\n",
    "    n_per_simulation_log.append(floor(exp(aux)))\n",
    "    aux = aux + n_step"
   ]
  },
  {
   "cell_type": "markdown",
   "metadata": {},
   "source": [
    "### Função para gerar a partir do networkX"
   ]
  },
  {
   "cell_type": "code",
   "execution_count": 14,
   "metadata": {},
   "outputs": [],
   "source": [
    "# Let's cheat and use networkx for that\n",
    "def generate_holmes_kim(n, m, p):\n",
    "    nx_g = nx.powerlaw_cluster_graph(n, m, p)\n",
    "    g = Graph.Adjacency((nx.to_numpy_matrix(nx_g) > 0).tolist())\n",
    "    g = g.as_undirected()\n",
    "    return g"
   ]
  },
  {
   "cell_type": "markdown",
   "metadata": {},
   "source": [
    "### CC"
   ]
  },
  {
   "cell_type": "code",
   "execution_count": 15,
   "metadata": {},
   "outputs": [
    {
     "data": {
      "image/png": "[encoded data removed]",
      "text/plain": [
       "<Figure size 432x288 with 1 Axes>"
      ]
     },
     "metadata": {
      "needs_background": "light"
     },
     "output_type": "display_data"
    }
   ],
   "source": [
    "# ==== Processing ====\n",
    "# CC\n",
    "CCs = []\n",
    "for n in n_per_simulation:\n",
    "    sum_cc = 0\n",
    "    for k in range(num_simulations):\n",
    "        g = generate_holmes_kim(n, m, p)\n",
    "        sum_cc += g.transitivity_undirected()\n",
    "    CCs.append(sum_cc / num_simulations)\n",
    "\n",
    "# Log(n)\n",
    "logn = []\n",
    "for n in n_per_simulation:\n",
    "    logn.append(log(n))\n",
    "    \n",
    "# Log(cc)\n",
    "logcc = []\n",
    "for cc in CCs:\n",
    "    logcc.append(log(cc))\n",
    "    \n",
    "# ==== Plotting ====\n",
    "plt.plot(n_per_simulation, CCs, 'o')\n",
    "\n",
    "# Info\n",
    "#plt.title(\"Coeficiente de agrupamento (CC) em função de n^(-3/4)\")\n",
    "plt.xlabel(\"n\")\n",
    "plt.ylabel(\"Coeficiente de agrupamento médio\")\n",
    "\n",
    "# Style\n",
    "plt.rcParams[\"font.family\"] = \"serif\"\n",
    "plt.grid(True)\n",
    "\n",
    "plt.savefig('plots/hk-cc.png', dpi=400)\n",
    "plt.show()"
   ]
  },
  {
   "cell_type": "markdown",
   "metadata": {},
   "source": [
    "### APL"
   ]
  },
  {
   "cell_type": "code",
   "execution_count": 16,
   "metadata": {},
   "outputs": [
    {
     "name": "stdout",
     "output_type": "stream",
     "text": [
      "Inclinação:  9.162593243416881e-05\n"
     ]
    },
    {
     "data": {
      "image/png": "[encoded data removed]",
      "text/plain": [
       "<Figure size 432x288 with 1 Axes>"
      ]
     },
     "metadata": {
      "needs_background": "light"
     },
     "output_type": "display_data"
    }
   ],
   "source": [
    "APLs = []\n",
    "for n in n_per_simulation:\n",
    "    sum_apl = 0\n",
    "    for k in range(num_simulations):\n",
    "        g = generate_holmes_kim(n, m, p)\n",
    "        sum_apl += g.average_path_length(directed=False)\n",
    "    APLs.append(sum_apl / num_simulations)\n",
    "    \n",
    "# ==== Plotting ====\n",
    "plt.plot(n_per_simulation, APLs, 'o')\n",
    "\n",
    "slope, intercept = np.polyfit(np.array(n_per_simulation), np.array(APLs), 1)\n",
    "print('Inclinação: ', slope)\n",
    "\n",
    "# Info\n",
    "#plt.title(\"Coeficiente de agrupamento (CC) em função de n^(-3/4)\")\n",
    "plt.xlabel(\"n\")\n",
    "plt.ylabel(\"Valor médio de APL\")\n",
    "\n",
    "# Style\n",
    "plt.rcParams[\"font.family\"] = \"serif\"\n",
    "plt.grid(True)\n",
    "\n",
    "plt.savefig('plots/hk-apl-n.png', dpi=400)\n",
    "plt.show()"
   ]
  },
  {
   "cell_type": "code",
   "execution_count": 17,
   "metadata": {},
   "outputs": [
    {
     "name": "stdout",
     "output_type": "stream",
     "text": [
      "Inclinação:  0.09955277190450029\n"
     ]
    },
    {
     "data": {
      "image/png": "[encoded data removed]",
      "text/plain": [
       "<Figure size 432x288 with 1 Axes>"
      ]
     },
     "metadata": {
      "needs_background": "light"
     },
     "output_type": "display_data"
    }
   ],
   "source": [
    "APLs = []\n",
    "for n in n_per_simulation_log:\n",
    "    sum_apl = 0\n",
    "    for k in range(num_simulations):\n",
    "        g = generate_holmes_kim(n, m, p)\n",
    "        sum_apl += g.average_path_length(directed=False)\n",
    "    APLs.append(sum_apl / num_simulations)\n",
    "\n",
    "# Log(n)\n",
    "logn = []\n",
    "for n in n_per_simulation:\n",
    "    logn.append(log(n))\n",
    "    \n",
    "# Log(apl)\n",
    "logapl = []\n",
    "for apl in APLs:\n",
    "    logapl.append(log(apl))\n",
    "    \n",
    "# ==== Plotting ====\n",
    "plt.plot(logn, logapl, 'o')\n",
    "\n",
    "slope, intercept = np.polyfit(np.array(logn), np.array(logapl), 1)\n",
    "print('Inclinação: ', slope)\n",
    "\n",
    "# Info\n",
    "#plt.title(\"Coeficiente de agrupamento (CC) em função de n^(-3/4)\")\n",
    "plt.xlabel(\"log(n)\")\n",
    "plt.ylabel(\"Logaritmo do valor médio de APL\")\n",
    "\n",
    "# Style\n",
    "plt.rcParams[\"font.family\"] = \"serif\"\n",
    "plt.grid(True)\n",
    "\n",
    "plt.savefig('plots/hk-logapl-logn.png', dpi=400)\n",
    "plt.show()"
   ]
  },
  {
   "cell_type": "code",
   "execution_count": 18,
   "metadata": {},
   "outputs": [
    {
     "name": "stdout",
     "output_type": "stream",
     "text": [
      "Inclinação:  0.4536650277021089\n"
     ]
    },
    {
     "data": {
      "image/png": "[encoded data removed]",
      "text/plain": [
       "<Figure size 432x288 with 1 Axes>"
      ]
     },
     "metadata": {
      "needs_background": "light"
     },
     "output_type": "display_data"
    }
   ],
   "source": [
    "plt.plot(logn, APLs, 'o')\n",
    "\n",
    "slope, intercept = np.polyfit(np.array(logn), np.array(APLs), 1)\n",
    "print('Inclinação: ', slope)\n",
    "\n",
    "# Info\n",
    "#plt.title(\"Coeficiente de agrupamento (CC) em função de n^(-3/4)\")\n",
    "plt.xlabel(\"log(n)\")\n",
    "plt.ylabel(\"Valor médio de APL\")\n",
    "\n",
    "# Style\n",
    "plt.rcParams[\"font.family\"] = \"serif\"\n",
    "plt.grid(True)\n",
    "\n",
    "plt.savefig('plots/hk-apl-logn.png', dpi=400)\n",
    "plt.show()"
   ]
  }
 ],
 "metadata": {
  "kernelspec": {
   "display_name": "Python 3",
   "language": "python",
   "name": "python3"
  },
  "language_info": {
   "codemirror_mode": {
    "name": "ipython",
    "version": 3
   },
   "file_extension": ".py",
   "mimetype": "text/x-python",
   "name": "python",
   "nbconvert_exporter": "python",
   "pygments_lexer": "ipython3",
   "version": "3.8.5"
  }
 },
 "nbformat": 4,
 "nbformat_minor": 4
}
